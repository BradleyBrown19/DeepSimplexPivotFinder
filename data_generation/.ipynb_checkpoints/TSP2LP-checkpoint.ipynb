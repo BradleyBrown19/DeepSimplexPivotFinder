{
 "cells": [
  {
   "cell_type": "markdown",
   "metadata": {
    "colab_type": "text",
    "id": "view-in-github"
   },
   "source": [
    "<a href=\"https://colab.research.google.com/github/BradleyBrown19/DeepSimplexPivotFinder/blob/master/TSP2LP.ipynb\" target=\"_parent\"><img src=\"https://colab.research.google.com/assets/colab-badge.svg\" alt=\"Open In Colab\"/></a>"
   ]
  },
  {
   "cell_type": "code",
   "execution_count": 1,
   "metadata": {
    "id": "5o2laJqjVTd-"
   },
   "outputs": [],
   "source": [
    "from itertools import permutations\n",
    "import networkx as nx\n",
    "import matplotlib.pyplot as plt\n",
    "import numpy as np\n",
    "import random\n",
    "import math\n",
    "from scipy.optimize import linprog\n",
    "import pickle\n",
    "import os\n",
    "from pathlib import Path\n",
    "\n",
    "np.random.seed(420)"
   ]
  },
  {
   "cell_type": "code",
   "execution_count": 20,
   "metadata": {
    "id": "Qe3YTVSon0w3"
   },
   "outputs": [],
   "source": [
    "# TSP Solver (brute force)\n",
    "def TSP(G, N):\n",
    "    min_weight = float(\"inf\")\n",
    "    min_path = None\n",
    "\n",
    "    for perm in permutations(list(range(1,N))):\n",
    "      current_pathweight = G[0][perm[0]]\n",
    "      for i in range(len(perm)-1):\n",
    "          current_pathweight += G[perm[i]][perm[i+1]]\n",
    "      current_pathweight += G[perm[-1]][0]\n",
    "      # update\n",
    "      if current_pathweight < min_weight:\n",
    "        min_weight = current_pathweight\n",
    "        min_path = perm\n",
    "\n",
    "    return min_weight, [0] + list(min_path)"
   ]
  },
  {
   "cell_type": "code",
   "execution_count": 21,
   "metadata": {
    "id": "kSh_82mGPvNN"
   },
   "outputs": [],
   "source": [
    "# UTIL GRAPH FUNCTIONS\n",
    "\n",
    "# print adjacency matrix (distances rounded to 2 decimal)\n",
    "def print_2d(M):\n",
    "  for r in M:\n",
    "    print([round(x,2) for x in r])\n",
    "  print()\n",
    "\n",
    "# generate N 2D points\n",
    "# then convert all points to (v1, v2, w(v1, v2)) tuples to represent graph\n",
    "def generate_euc_graph(N, D):\n",
    "  def dist(a, b):\n",
    "      return math.sqrt( (a[0]-b[0])**2 + (a[1]-b[1])**2 )\n",
    "  # generate 2d points\n",
    "  points = set()\n",
    "  while len(points) < N:\n",
    "    points.add((np.random.uniform(0,D), np.random.uniform(0,D)))\n",
    "  points = np.array(list(points))\n",
    "  # generate graph\n",
    "  G = set()\n",
    "  W = {}\n",
    "  for i in range(N):\n",
    "    for j in range(i+1, N):\n",
    "      d = dist(points[i], points[j])\n",
    "      G.add((i, j, d))\n",
    "      W[i,j] = d\n",
    "      W[j,i] = d\n",
    "  return points, G, W\n",
    "\n",
    "def generate_no_euc_graph(N, D):\n",
    "    weights = np.clip(np.random.normal(D/2, D/4, int(N*(N-1)/2)), \n",
    "                      a_min=0, \n",
    "                      a_max=float(\"inf\"))\n",
    "#     weights = np.random.randint(1,10,int(N*(N-1)/2))\n",
    "    G = set()\n",
    "    W = {}\n",
    "    k = 0\n",
    "    for i in range(N):\n",
    "        for j in range(i+1, N): \n",
    "            G.add((i, j, weights[k]))\n",
    "            W[i,j] = weights[k]\n",
    "            W[j,i] = weights[k]\n",
    "            k += 1\n",
    "    assert k == N*(N-1)/2\n",
    "    return G, W\n",
    "\n",
    "def generate_asym_graph(N, D):\n",
    "    weights = np.clip(np.random.normal(D/2, D/4, int(N*(N-1))), \n",
    "                      a_min=0, \n",
    "                      a_max=float(\"inf\"))\n",
    "    G = set()\n",
    "    W = {}\n",
    "    k = 0\n",
    "    for i in range(N):\n",
    "        for j in range(i+1, N): \n",
    "            G.add((i, j, weights[k]))\n",
    "            G.add((j, i, weights[k+1]))\n",
    "            W[i,j] = weights[k]\n",
    "            W[j,i] = weights[k+1]\n",
    "            k += 2\n",
    "    assert k == N*(N-1)\n",
    "    return G, W\n",
    "\n",
    "# visualize 2D points\n",
    "def visualize_points(points, D):\n",
    "  plt.scatter([p[0] for p in points[1:]], \n",
    "              [p[1] for p in points[1:]], c=\"blue\")\n",
    "  plt.scatter(points[0][0], points[0][1], c='red')\n",
    "  plt.ylim([0, D])\n",
    "  plt.xlim([0, D])\n",
    "  plt.show()\n",
    "\n",
    "# convert graph represented in tuples to graph represented in\n",
    "# adjacency matrix\n",
    "def tuples2adj(G, N):\n",
    "  M = [[0]*N for _ in range(N)]\n",
    "  for u,v,w in G:\n",
    "    M[u][v] = w\n",
    "    M[v][u] = w\n",
    "  return M"
   ]
  },
  {
   "cell_type": "code",
   "execution_count": 22,
   "metadata": {
    "id": "ndsUQd3hVYSo"
   },
   "outputs": [],
   "source": [
    "# UTIL SIMPLEX FUNCTIONS\n",
    "\n",
    "def generate_constraints(N):\n",
    "  # A_eq\n",
    "  A_eq = [[0]*((N+1)*(N-1)) for _ in range(2*N)]\n",
    "  k = 0\n",
    "  for i in range(N):\n",
    "    for j in range(N):\n",
    "      if i != j:\n",
    "        A_eq[i][k] = 1\n",
    "        A_eq[j+N][k] = 1\n",
    "        k += 1\n",
    "  # A_ub\n",
    "  A_ub = [[0]*((N+1)*(N-1)) for _ in range((N-1)*(N-2))]\n",
    "  k = 0\n",
    "  q = 0\n",
    "  for i in range(N):\n",
    "    for j in range(N):\n",
    "      if i == j:\n",
    "        continue\n",
    "      if i == 0 or j == 0:\n",
    "        k += 1\n",
    "        continue\n",
    "      A_ub[q][k] = N\n",
    "      A_ub[q][(N*(N-1))+i-1] = 1\n",
    "      A_ub[q][(N*(N-1))+j-1] = -1\n",
    "      k += 1\n",
    "      q += 1\n",
    "  # b_eq\n",
    "  b_eq = [1]*(2*N)\n",
    "  # b_ub\n",
    "  b_ub = [N-1]*((N-1)*(N-2))\n",
    "\n",
    "  # combine A_eq to A_ub and b_eq to b_ub as our \n",
    "  # simplex solver does not support equality\n",
    "  for r, b in zip(A_eq, b_eq):\n",
    "    A_ub.append(r)\n",
    "    A_ub.append([-x for x in r])\n",
    "    b_ub.append(b)\n",
    "    b_ub.append(-b)\n",
    "\n",
    "  assert len(A_ub) == N**2+N+2\n",
    "  assert len(A_ub) == len(b_ub)\n",
    "\n",
    "  return A_ub, b_ub\n",
    "\n",
    "\n",
    "def generate_c(W, N):\n",
    "  # c\n",
    "  c = []\n",
    "  for i in range(N):\n",
    "    for j in range(N):\n",
    "      if i != j:\n",
    "        c.append(W[i,j])\n",
    "  c += [0]*(N-1)\n",
    "  return c\n",
    "\n",
    "\n",
    "# branch-and-bound using simplex solver\n",
    "def branch_and_bound_simplex(A_eq, A_ub, b_eq, b_ub, c, N):\n",
    "  soln = float(\"inf\")\n",
    "  best_x = None\n",
    "\n",
    "  stack = [(A_eq, b_eq)]\n",
    "  while stack:\n",
    "    A_eq, b_eq = stack.pop()\n",
    "    res = linprog(c=c, A_eq=A_eq, b_eq=b_eq, A_ub=A_ub, b_ub=b_ub, method=\"simplex\")\n",
    "    x = res[\"x\"]\n",
    "    fun = res[\"fun\"]\n",
    "    status = res[\"status\"]\n",
    "    if status != 0:\n",
    "      continue\n",
    "\n",
    "    # check which Xij is not 0 or 1\n",
    "    i = 0\n",
    "    while i < N*(N-1):\n",
    "      if abs(x[i]) > 0.001 and abs(x[i]-1) > 0.001:\n",
    "        break\n",
    "      i += 1\n",
    "\n",
    "    if i == N*(N-1) and fun < soln:\n",
    "      soln = fun\n",
    "      best_x = x\n",
    "    elif fun < soln:\n",
    "      r = [0]*((N+1)*(N-1))\n",
    "      r[i] = 1\n",
    "      stack.append((A_eq+[r], b_eq+[1]))\n",
    "      stack.append((A_eq+[r], b_eq+[0]))\n",
    "\n",
    "  return soln, best_x"
   ]
  },
  {
   "cell_type": "code",
   "execution_count": 23,
   "metadata": {
    "colab": {
     "base_uri": "https://localhost:8080/",
     "height": 834
    },
    "id": "jjX_uMKgqQHG",
    "outputId": "d136a293-36ec-4d59-d1c7-4a02056c8a31"
   },
   "outputs": [],
   "source": [
    "# DEFINE PARAMS\n",
    "N = 5 # number of nodes in TSP\n",
    "D = 10 # all 2D points lie within x=(0,D) and y=(0,D)"
   ]
  },
  {
   "cell_type": "code",
   "execution_count": 24,
   "metadata": {
    "colab": {
     "background_save": true,
     "base_uri": "https://localhost:8080/"
    },
    "id": "zt1p-TXGwsVc",
    "outputId": "110e55b8-4436-423a-cc6e-d56a26939853"
   },
   "outputs": [
    {
     "name": "stdout",
     "output_type": "stream",
     "text": [
      "Generated Locations:\n"
     ]
    },
    {
     "data": {
      "image/png": "[encoded data removed]",
      "text/plain": [
       "<Figure size 432x288 with 1 Axes>"
      ]
     },
     "metadata": {
      "needs_background": "light"
     },
     "output_type": "display_data"
    },
    {
     "name": "stdout",
     "output_type": "stream",
     "text": [
      "\n",
      "Adjacency Matrix:\n",
      "[0, 7.43, 5.85, 8.27, 2.12]\n",
      "[7.43, 0, 5.66, 1.01, 7.34]\n",
      "[5.85, 5.66, 0, 5.8, 4.17]\n",
      "[8.27, 1.01, 5.8, 0, 8.0]\n",
      "[2.12, 7.34, 4.17, 8.0, 0]\n",
      "\n",
      "path: [0, 1, 3, 2, 4, 0]\n",
      "distance: 20.538166211157826\n"
     ]
    },
    {
     "name": "stderr",
     "output_type": "stream",
     "text": [
      "/usr/local/anaconda3/lib/python3.7/site-packages/ipykernel_launcher.py:27: UserWarning: Matplotlib is currently using module://ipykernel.pylab.backend_inline, which is a non-GUI backend, so cannot show the figure.\n"
     ]
    },
    {
     "data": {
      "image/png": "[encoded data removed]",
      "text/plain": [
       "<Figure size 432x288 with 1 Axes>"
      ]
     },
     "metadata": {
      "needs_background": "light"
     },
     "output_type": "display_data"
    }
   ],
   "source": [
    "# STEP 2: GENERATE GRAPH\n",
    "points, G, W = generate_euc_graph(N, D)\n",
    "print(\"Generated Locations:\")\n",
    "visualize_points(points, D)\n",
    "M = tuples2adj(G, N)\n",
    "print(\"\\nAdjacency Matrix:\")\n",
    "print_2d(M)\n",
    "\n",
    "# STEP 3: SOLVE TSP\n",
    "dist, path = TSP(M, N)\n",
    "path.append(path[0])\n",
    "ordered_point = points[path]\n",
    "print(\"path: \" + str(path))\n",
    "print(\"distance: \" + str(dist))\n",
    "\n",
    "# STEP 4: VISUALIZE\n",
    "fig = plt.figure()\n",
    "axes = fig.add_axes([0.1, 0.1, 1, 1])\n",
    "axes.set_xlim(0, D)\n",
    "axes.set_ylim(0, D)\n",
    "# points\n",
    "axes.plot(points[0][0], points[0][1], marker='o', c='red')\n",
    "for i in range(1,N):\n",
    "  axes.plot(points[i][0], points[i][1], marker='o', c=\"blue\")\n",
    "# draw used edges\n",
    "axes.plot(ordered_point[:,0], ordered_point[:,1])\n",
    "fig.show()"
   ]
  },
  {
   "cell_type": "code",
   "execution_count": 8,
   "metadata": {},
   "outputs": [],
   "source": [
    "# make a bunch of dirs\n",
    "Path(\"data\").mkdir(parents=True, exist_ok=True)\n",
    "Path(\"data/4_euclid\").mkdir(parents=True, exist_ok=True)\n",
    "Path(\"data/4_no_euclid\").mkdir(parents=True, exist_ok=True)\n",
    "Path(\"data/6_euclid\").mkdir(parents=True, exist_ok=True)\n",
    "Path(\"data/6_no_euclid\").mkdir(parents=True, exist_ok=True)\n",
    "Path(\"data/8_euclid\").mkdir(parents=True, exist_ok=True)\n",
    "Path(\"data/8_no_euclid\").mkdir(parents=True, exist_ok=True)\n",
    "Path(\"data/10_euclid\").mkdir(parents=True, exist_ok=True)\n",
    "Path(\"data/10_no_euclid\").mkdir(parents=True, exist_ok=True)\n",
    "\n",
    "Path(\"data\").mkdir(parents=True, exist_ok=True)\n",
    "Path(\"data/4_euclid_test\").mkdir(parents=True, exist_ok=True)\n",
    "Path(\"data/4_no_euclid_test\").mkdir(parents=True, exist_ok=True)\n",
    "Path(\"data/6_euclid_test\").mkdir(parents=True, exist_ok=True)\n",
    "Path(\"data/6_no_euclid_test\").mkdir(parents=True, exist_ok=True)\n",
    "Path(\"data/8_euclid_test\").mkdir(parents=True, exist_ok=True)\n",
    "Path(\"data/8_no_euclid_test\").mkdir(parents=True, exist_ok=True)\n",
    "Path(\"data/10_euclid_test\").mkdir(parents=True, exist_ok=True)\n",
    "Path(\"data/10_no_euclid_test\").mkdir(parents=True, exist_ok=True)"
   ]
  },
  {
   "cell_type": "code",
   "execution_count": 11,
   "metadata": {
    "colab": {
     "base_uri": "https://localhost:8080/"
    },
    "id": "Lct9X2QnMuwr",
    "outputId": "0d9f4b86-1fad-40d3-8976-c819e7041222"
   },
   "outputs": [],
   "source": [
    "# CONFIGS\n",
    "NUM_DATA = 1000 # number of TSPs\n",
    "\n",
    "def generateData(N, NUM_DATA, euclidean=True):\n",
    "  A, b = generate_constraints(N)\n",
    "  for i in range(1,NUM_DATA+1):\n",
    "    # GENERATE GRAPH\n",
    "    if euclidean:\n",
    "        _, G, W = generate_euc_graph(N, D)\n",
    "    else:\n",
    "        G, W = generate_no_euc_graph(N, D)\n",
    "    c = generate_c(W)\n",
    "    \n",
    "    euc = \"euclid\" if euclidean else \"no_euclid\"\n",
    "    with open(f'data/{N}_{euc}_test/{i}.pickle', 'wb') as f:\n",
    "      pickle.dump({\"c\":c, \"A\":A, \"b\":b, \"prob\": \"min\"}, f)\n",
    "\n",
    "    # quick sanity test below\n",
    "    # dist, _ = TSP(M, N)\n",
    "    # res = linprog(c=c, A_ub=A, b_ub=b, method=\"simplex\")\n",
    "    # print(res)\n",
    "    # assert res['status'] == 0\n",
    "    # assert dist >= res[\"fun\"] or abs(dist - res[\"fun\"]) < 1e-3, print(dist, res[\"fun\"])\n",
    "\n",
    "for N in [4,6,8,10]:\n",
    "    for euc in [True, False]:\n",
    "        generateData(N, NUM_DATA, euc)"
   ]
  },
  {
   "cell_type": "code",
   "execution_count": 29,
   "metadata": {},
   "outputs": [
    {
     "data": {
      "text/plain": [
       "(array([ 53366., 133567., 178869., 192473., 177778., 141758.,  86888.,\n",
       "         28567.,   6186.,    548.]),\n",
       " array([1.00376084e-03, 1.38585212e+00, 2.77070047e+00, 4.15554883e+00,\n",
       "        5.54039719e+00, 6.92524554e+00, 8.31009390e+00, 9.69494226e+00,\n",
       "        1.10797906e+01, 1.24646390e+01, 1.38494873e+01]),\n",
       " <a list of 10 Patch objects>)"
      ]
     },
     "execution_count": 29,
     "metadata": {},
     "output_type": "execute_result"
    },
    {
     "data": {
      "image/png": "[encoded data removed]",
      "text/plain": [
       "<Figure size 432x288 with 1 Axes>"
      ]
     },
     "metadata": {
      "needs_background": "light"
     },
     "output_type": "display_data"
    }
   ],
   "source": [
    "# scribble to get a sense of distribution of distances in euclidean\n",
    "def dist(a, b):\n",
    "    return math.sqrt( (a[0]-b[0])**2 + (a[1]-b[1])**2 )\n",
    "\n",
    "dists = []\n",
    "for _ in range(int(1e6)):\n",
    "    d = dist((np.random.uniform(0,D), np.random.uniform(0,D)),\n",
    "             (np.random.uniform(0,D), np.random.uniform(0,D)))\n",
    "    dists.append(d)\n",
    "plt.hist(dists)"
   ]
  },
  {
   "cell_type": "code",
   "execution_count": 34,
   "metadata": {},
   "outputs": [
    {
     "name": "stdout",
     "output_type": "stream",
     "text": [
      "[6.435779108079842, 6.202708759303513, 4.151570748745838, 4.128879273964376, 6.627526519374067, 2.1724350042052336, 4.693608696488271, 6.691251411999945, 6.385183716970697, 4.279767001180528, 6.880418125470354, 6.751941072521569, 0, 0, 0]\n",
      "19.34616217668922\n",
      "[0.0, 3.1583889615734106, 5.912533468045198, 7.197269153595439, 0.0, 2.167417685927493, 1.9654027671462297, 4.193257807568046, 1.1565428505836612, 3.173357960760111, 9.507539499065341, 3.1952527883157487, 0, 0, 0]\n",
      "4.329900811343772\n",
      "[6.9007223354409035, 6.982526802463616, 4.921847434040819, 0.9879008095172779, 4.5317041141338334, 5.0865107043519115, 7.05599322048311, 5.541537033944969, 10.281337857537482, 4.5550497854232015, 5.112247449905816, 5.943085170755436, 0, 0, 0]\n",
      "17.394370448258503\n",
      "[6.899170875675876, 6.8956294986595825, 4.346382534771215, 3.646841621781074, 6.345817991571924, 7.720389203958795, 8.128100683924588, 5.148271131586996, 9.634495764934272, 4.893591577580135, 6.059825635853709, 4.684295016267835, 0, 0, 0]\n",
      "17.82579030440712\n",
      "[5.469356661295379, 3.478983468527548, 2.0968928807150133, 2.9775963295438004, 5.946834442536196, 6.357738946376257, 0.0, 3.378499579285444, 5.756683623323867, 4.115568527420584, 3.4349354650374577, 7.172143372394116, 0, 0, 0]\n",
      "11.478662788288666\n",
      "[5.050915357460851, 8.838218470188071, 6.0105689209337765, 1.2791773588611814, 3.4259365419972942, 0.10524524424070147, 5.050775366653273, 0.5395036929097294, 1.4371488499559808, 8.064997715106617, 4.481251088287673, 6.3250412911280804, 0, 0, 0]\n",
      "14.123287060619429\n",
      "[6.65856010266465, 2.808040361947107, 2.113210860824174, 3.182629958163603, 6.971135679540318, 7.453599569597479, 3.9480563876618087, 6.216110468556155, 9.681458489730952, 5.591633688986185, 1.2862843014236591, 7.541384414884673, 0, 0, 0]\n",
      "14.31868722944996\n",
      "[5.104256769518333, 1.4864594366641395, 6.984909497425107, 6.925689947235978, 6.360362581775588, 3.541703129144205, 6.244095493673401, 0.0, 3.3420188588974407, 8.129377201718965, 2.7805264352324937, 3.104060290746377, 0, 0, 0]\n",
      "13.15753976752731\n",
      "[0.26303236726951784, 4.964668506972177, 5.74665031545229, 5.350332975195988, 1.0101791580069817, 5.5134462152982, 9.8158125521434, 8.095798914075859, 3.8836479994082183, 7.392019072526587, 9.76568811611968, 7.417584374374321, 0, 0, 0]\n",
      "12.548878597211305\n",
      "[4.213544743573426, 7.467011336078405, 5.9587648357425405, 1.30388206996005, 3.139856444133253, 0.8741489568612364, 5.614278968864319, 5.125941024155287, 3.5913853805261997, 5.499661850803662, 2.915576331053551, 1.741312326639095, 0, 0, 0]\n",
      "11.646704758318423\n"
     ]
    }
   ],
   "source": [
    "Path(\"data/4_asym\").mkdir(parents=True, exist_ok=True)\n",
    "Path(\"data/4_asym_test\").mkdir(parents=True, exist_ok=True)\n",
    "\n",
    "# CONFIGS\n",
    "NUM_DATA = 5000 # number of TSPs\n",
    "N = 4\n",
    "D = 10\n",
    "\n",
    "A, b = generate_constraints(N)\n",
    "for i in range(1,NUM_DATA+1):\n",
    "    # GENERATE GRAPH\n",
    "    G, W = generate_asym_graph(N, D)\n",
    "    c = generate_c(W, N)\n",
    "\n",
    "    with open(f\"data/4_asym/{i}.pickle\", 'wb') as f:\n",
    "        pickle.dump({\"c\":c, \"A\":A, \"b\":b, \"prob\": \"min\"}, f)\n",
    "\n",
    "    # quick sanity test below\n",
    "#     res = linprog(c=c, A_ub=A, b_ub=b, method=\"simplex\")\n",
    "#     print(res[\"fun\"])\n",
    "#     assert res['status'] == 0\n"
   ]
  },
  {
   "cell_type": "code",
   "execution_count": 17,
   "metadata": {},
   "outputs": [
    {
     "name": "stdout",
     "output_type": "stream",
     "text": [
      "{(0, 1): 7.795123679594484, (1, 0): 4.173390639899055, (0, 2): 8.9417574204919, (2, 0): 9.291980642002008, (1, 2): 4.927811120116895, (2, 1): 5.377794198767829}\n"
     ]
    }
   ],
   "source": []
  },
  {
   "cell_type": "code",
   "execution_count": null,
   "metadata": {},
   "outputs": [],
   "source": []
  }
 ],
 "metadata": {
  "accelerator": "GPU",
  "colab": {
   "authorship_tag": "ABX9TyPuZfRG+aFRSgU7ZDU57x79",
   "collapsed_sections": [],
   "include_colab_link": true,
   "name": "TSP2LP.ipynb",
   "provenance": []
  },
  "kernelspec": {
   "display_name": "Python 3",
   "language": "python",
   "name": "python3"
  },
  "language_info": {
   "codemirror_mode": {
    "name": "ipython",
    "version": 3
   },
   "file_extension": ".py",
   "mimetype": "text/x-python",
   "name": "python",
   "nbconvert_exporter": "python",
   "pygments_lexer": "ipython3",
   "version": "3.7.6"
  }
 },
 "nbformat": 4,
 "nbformat_minor": 1
}
