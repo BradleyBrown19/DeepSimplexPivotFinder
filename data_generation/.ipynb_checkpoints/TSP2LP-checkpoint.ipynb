{
 "cells": [
  {
   "cell_type": "markdown",
   "metadata": {
    "colab_type": "text",
    "id": "view-in-github"
   },
   "source": [
    "<a href=\"https://colab.research.google.com/github/BradleyBrown19/DeepSimplexPivotFinder/blob/master/TSP2LP.ipynb\" target=\"_parent\"><img src=\"https://colab.research.google.com/assets/colab-badge.svg\" alt=\"Open In Colab\"/></a>"
   ]
  },
  {
   "cell_type": "code",
   "execution_count": 86,
   "metadata": {
    "id": "5o2laJqjVTd-"
   },
   "outputs": [],
   "source": [
    "from itertools import permutations\n",
    "import networkx as nx\n",
    "import matplotlib.pyplot as plt\n",
    "import numpy as np\n",
    "import random\n",
    "import math\n",
    "from scipy.optimize import linprog\n",
    "import pickle\n",
    "import os\n",
    "from pathlib import Path\n",
    "\n",
    "np.random.seed(420)"
   ]
  },
  {
   "cell_type": "code",
   "execution_count": 2,
   "metadata": {
    "id": "Qe3YTVSon0w3"
   },
   "outputs": [],
   "source": [
    "# TSP Solver (brute force)\n",
    "def TSP(G, N):\n",
    "    min_weight = float(\"inf\")\n",
    "    min_path = None\n",
    "\n",
    "    for perm in permutations(list(range(1,N))):\n",
    "      current_pathweight = G[0][perm[0]]\n",
    "      for i in range(len(perm)-1):\n",
    "          current_pathweight += G[perm[i]][perm[i+1]]\n",
    "      current_pathweight += G[perm[-1]][0]\n",
    "      # update\n",
    "      if current_pathweight < min_weight:\n",
    "        min_weight = current_pathweight\n",
    "        min_path = perm\n",
    "\n",
    "    return min_weight, [0] + list(min_path)"
   ]
  },
  {
   "cell_type": "code",
   "execution_count": 85,
   "metadata": {
    "id": "kSh_82mGPvNN"
   },
   "outputs": [],
   "source": [
    "# UTIL GRAPH FUNCTIONS\n",
    "\n",
    "# print adjacency matrix (distances rounded to 2 decimal)\n",
    "def print_2d(M):\n",
    "  for r in M:\n",
    "    print([round(x,2) for x in r])\n",
    "  print()\n",
    "\n",
    "# generate N 2D points\n",
    "# then convert all points to (v1, v2, w(v1, v2)) tuples to represent graph\n",
    "def generate_euc_graph(N, D):\n",
    "  def dist(a, b):\n",
    "      return math.sqrt( (a[0]-b[0])**2 + (a[1]-b[1])**2 )\n",
    "  # generate 2d points\n",
    "  points = set()\n",
    "  while len(points) < N:\n",
    "    points.add((np.random.uniform(0,D), np.random.uniform(0,D)))\n",
    "  points = np.array(list(points))\n",
    "  # generate graph\n",
    "  G = set()\n",
    "  W = {}\n",
    "  for i in range(N):\n",
    "    for j in range(i+1, N):\n",
    "      d = dist(points[i], points[j])\n",
    "      G.add((i, j, d))\n",
    "      W[i,j] = d\n",
    "      W[j,i] = d\n",
    "  return points, G, W\n",
    "\n",
    "def generate_no_euc_graph(N, D):\n",
    "    weights = np.clip(np.random.normal(D/2, D/4, int(N*(N-1)/2)), \n",
    "                      a_min=0, \n",
    "                      a_max=float(\"inf\"))\n",
    "    G = set()\n",
    "    W = {}\n",
    "    k = 0\n",
    "    for i in range(N):\n",
    "        for j in range(i+1, N): \n",
    "            G.add((i, j, weights[k]))\n",
    "            W[i,j] = weights[k]\n",
    "            W[j,i] = weights[k]\n",
    "            k += 1\n",
    "    assert k == N*(N-1)/2\n",
    "    return G, W\n",
    "\n",
    "# visualize 2D points\n",
    "def visualize_points(points, D):\n",
    "  plt.scatter([p[0] for p in points[1:]], \n",
    "              [p[1] for p in points[1:]], c=\"blue\")\n",
    "  plt.scatter(points[0][0], points[0][1], c='red')\n",
    "  plt.ylim([0, D])\n",
    "  plt.xlim([0, D])\n",
    "  plt.show()\n",
    "\n",
    "# convert graph represented in tuples to graph represented in\n",
    "# adjacency matrix\n",
    "def tuples2adj(G, N):\n",
    "  M = [[0]*N for _ in range(N)]\n",
    "  for u,v,w in G:\n",
    "    M[u][v] = w\n",
    "    M[v][u] = w\n",
    "  return M"
   ]
  },
  {
   "cell_type": "code",
   "execution_count": 41,
   "metadata": {
    "id": "ndsUQd3hVYSo"
   },
   "outputs": [],
   "source": [
    "# UTIL SIMPLEX FUNCTIONS\n",
    "\n",
    "def generate_constraints(N):\n",
    "  # A_eq\n",
    "  A_eq = [[0]*((N+1)*(N-1)) for _ in range(2*N)]\n",
    "  k = 0\n",
    "  for i in range(N):\n",
    "    for j in range(N):\n",
    "      if i != j:\n",
    "        A_eq[i][k] = 1\n",
    "        A_eq[j+N][k] = 1\n",
    "        k += 1\n",
    "  # A_ub\n",
    "  A_ub = [[0]*((N+1)*(N-1)) for _ in range((N-1)*(N-2))]\n",
    "  k = 0\n",
    "  q = 0\n",
    "  for i in range(N):\n",
    "    for j in range(N):\n",
    "      if i == j:\n",
    "        continue\n",
    "      if i == 0 or j == 0:\n",
    "        k += 1\n",
    "        continue\n",
    "      A_ub[q][k] = N\n",
    "      A_ub[q][(N*(N-1))+i-1] = 1\n",
    "      A_ub[q][(N*(N-1))+j-1] = -1\n",
    "      k += 1\n",
    "      q += 1\n",
    "  # b_eq\n",
    "  b_eq = [1]*(2*N)\n",
    "  # b_ub\n",
    "  b_ub = [N-1]*((N-1)*(N-2))\n",
    "\n",
    "  # combine A_eq to A_ub and b_eq to b_ub as our \n",
    "  # simplex solver does not support equality\n",
    "  for r, b in zip(A_eq, b_eq):\n",
    "    A_ub.append(r)\n",
    "    A_ub.append([-x for x in r])\n",
    "    b_ub.append(b)\n",
    "    b_ub.append(-b)\n",
    "\n",
    "  assert len(A_ub) == N**2+N+2\n",
    "  assert len(A_ub) == len(b_ub)\n",
    "\n",
    "  return A_ub, b_ub\n",
    "\n",
    "\n",
    "def generate_c(W):\n",
    "  # c\n",
    "  c = []\n",
    "  for i in range(N):\n",
    "    for j in range(N):\n",
    "      if i != j:\n",
    "        c.append(W[i,j])\n",
    "  c += [0]*(N-1)\n",
    "  return c\n",
    "\n",
    "\n",
    "# branch-and-bound using simplex solver\n",
    "def branch_and_bound_simplex(A_eq, A_ub, b_eq, b_ub, c, N):\n",
    "  soln = float(\"inf\")\n",
    "  best_x = None\n",
    "\n",
    "  stack = [(A_eq, b_eq)]\n",
    "  while stack:\n",
    "    A_eq, b_eq = stack.pop()\n",
    "    res = linprog(c=c, A_eq=A_eq, b_eq=b_eq, A_ub=A_ub, b_ub=b_ub, method=\"simplex\")\n",
    "    x = res[\"x\"]\n",
    "    fun = res[\"fun\"]\n",
    "    status = res[\"status\"]\n",
    "    if status != 0:\n",
    "      continue\n",
    "\n",
    "    # check which Xij is not 0 or 1\n",
    "    i = 0\n",
    "    while i < N*(N-1):\n",
    "      if abs(x[i]) > 0.001 and abs(x[i]-1) > 0.001:\n",
    "        break\n",
    "      i += 1\n",
    "\n",
    "    if i == N*(N-1) and fun < soln:\n",
    "      soln = fun\n",
    "      best_x = x\n",
    "    elif fun < soln:\n",
    "      r = [0]*((N+1)*(N-1))\n",
    "      r[i] = 1\n",
    "      stack.append((A_eq+[r], b_eq+[1]))\n",
    "      stack.append((A_eq+[r], b_eq+[0]))\n",
    "\n",
    "  return soln, best_x"
   ]
  },
  {
   "cell_type": "code",
   "execution_count": 34,
   "metadata": {
    "colab": {
     "base_uri": "https://localhost:8080/",
     "height": 834
    },
    "id": "jjX_uMKgqQHG",
    "outputId": "d136a293-36ec-4d59-d1c7-4a02056c8a31"
   },
   "outputs": [],
   "source": [
    "# DEFINE PARAMS\n",
    "N = 5 # number of nodes in TSP\n",
    "D = 10 # all 2D points lie within x=(0,D) and y=(0,D)"
   ]
  },
  {
   "cell_type": "code",
   "execution_count": 35,
   "metadata": {
    "colab": {
     "background_save": true,
     "base_uri": "https://localhost:8080/"
    },
    "id": "zt1p-TXGwsVc",
    "outputId": "110e55b8-4436-423a-cc6e-d56a26939853"
   },
   "outputs": [
    {
     "name": "stdout",
     "output_type": "stream",
     "text": [
      "Generated Locations:\n"
     ]
    },
    {
     "data": {
      "image/png": "[encoded data removed]",
      "text/plain": [
       "<Figure size 432x288 with 1 Axes>"
      ]
     },
     "metadata": {
      "needs_background": "light"
     },
     "output_type": "display_data"
    },
    {
     "name": "stdout",
     "output_type": "stream",
     "text": [
      "\n",
      "Adjacency Matrix:\n",
      "[0, 1.56, 3.09, 3.0, 1.52]\n",
      "[1.56, 0, 4.44, 4.54, 1.29]\n",
      "[3.09, 4.44, 0, 2.6, 4.58]\n",
      "[3.0, 4.54, 2.6, 0, 3.92]\n",
      "[1.52, 1.29, 4.58, 3.92, 0]\n",
      "\n",
      "path: [0, 1, 4, 3, 2, 0]\n",
      "distance: 12.460639778254624\n"
     ]
    },
    {
     "name": "stderr",
     "output_type": "stream",
     "text": [
      "/usr/local/anaconda3/lib/python3.7/site-packages/ipykernel_launcher.py:27: UserWarning: Matplotlib is currently using module://ipykernel.pylab.backend_inline, which is a non-GUI backend, so cannot show the figure.\n"
     ]
    },
    {
     "data": {
      "image/png": "[encoded data removed]",
      "text/plain": [
       "<Figure size 432x288 with 1 Axes>"
      ]
     },
     "metadata": {
      "needs_background": "light"
     },
     "output_type": "display_data"
    }
   ],
   "source": [
    "# STEP 2: GENERATE GRAPH\n",
    "points, G, W = generate_euc_graph(N, D)\n",
    "print(\"Generated Locations:\")\n",
    "visualize_points(points, D)\n",
    "M = tuples2adj(G, N)\n",
    "print(\"\\nAdjacency Matrix:\")\n",
    "print_2d(M)\n",
    "\n",
    "# STEP 3: SOLVE TSP\n",
    "dist, path = TSP(M, N)\n",
    "path.append(path[0])\n",
    "ordered_point = points[path]\n",
    "print(\"path: \" + str(path))\n",
    "print(\"distance: \" + str(dist))\n",
    "\n",
    "# STEP 4: VISUALIZE\n",
    "fig = plt.figure()\n",
    "axes = fig.add_axes([0.1, 0.1, 1, 1])\n",
    "axes.set_xlim(0, D)\n",
    "axes.set_ylim(0, D)\n",
    "# points\n",
    "axes.plot(points[0][0], points[0][1], marker='o', c='red')\n",
    "for i in range(1,N):\n",
    "  axes.plot(points[i][0], points[i][1], marker='o', c=\"blue\")\n",
    "# draw used edges\n",
    "axes.plot(ordered_point[:,0], ordered_point[:,1])\n",
    "fig.show()"
   ]
  },
  {
   "cell_type": "code",
   "execution_count": 92,
   "metadata": {},
   "outputs": [],
   "source": [
    "# make a bunch of dirs\n",
    "Path(\"data\").mkdir(parents=True, exist_ok=True)\n",
    "Path(\"data/4_euclid\").mkdir(parents=True, exist_ok=True)\n",
    "Path(\"data/4_no_euclid\").mkdir(parents=True, exist_ok=True)\n",
    "Path(\"data/6_euclid\").mkdir(parents=True, exist_ok=True)\n",
    "Path(\"data/6_no_euclid\").mkdir(parents=True, exist_ok=True)\n",
    "Path(\"data/8_euclid\").mkdir(parents=True, exist_ok=True)\n",
    "Path(\"data/8_no_euclid\").mkdir(parents=True, exist_ok=True)\n",
    "Path(\"data/10_euclid\").mkdir(parents=True, exist_ok=True)\n",
    "Path(\"data/10_no_euclid\").mkdir(parents=True, exist_ok=True)"
   ]
  },
  {
   "cell_type": "code",
   "execution_count": 93,
   "metadata": {
    "colab": {
     "base_uri": "https://localhost:8080/"
    },
    "id": "Lct9X2QnMuwr",
    "outputId": "0d9f4b86-1fad-40d3-8976-c819e7041222"
   },
   "outputs": [],
   "source": [
    "# CONFIGS\n",
    "NUM_DATA = 5000 # number of TSPs\n",
    "\n",
    "def generateData(N, NUM_DATA, euclidean=True):\n",
    "  A, b = generate_constraints(N)\n",
    "  for i in range(1,NUM_DATA+1):\n",
    "    # GENERATE GRAPH\n",
    "    if euclidean:\n",
    "        _, G, W = generate_euc_graph(N, D)\n",
    "    else:\n",
    "        G, W = generate_no_euc_graph(N, D)\n",
    "    c = generate_c(W)\n",
    "    \n",
    "    euc = \"euclid\" if euclidean else \"no_euclid\"\n",
    "    with open(f'data/{N}_{euc}/{i}.pickle', 'wb') as f:\n",
    "      pickle.dump({\"c\":c, \"A\":A, \"b\":b, \"prob\": \"min\"}, f)\n",
    "\n",
    "    # quick sanity test below\n",
    "    # dist, _ = TSP(M, N)\n",
    "    # res = linprog(c=c, A_ub=A, b_ub=b, method=\"simplex\")\n",
    "    # print(res)\n",
    "    # assert res['status'] == 0\n",
    "    # assert dist >= res[\"fun\"] or abs(dist - res[\"fun\"]) < 1e-3, print(dist, res[\"fun\"])\n",
    "\n",
    "for N in [4,6,8,10]:\n",
    "    for euc in [True, False]:\n",
    "        generateData(N, NUM_DATA, euc)"
   ]
  },
  {
   "cell_type": "code",
   "execution_count": 29,
   "metadata": {},
   "outputs": [
    {
     "data": {
      "text/plain": [
       "(array([ 53366., 133567., 178869., 192473., 177778., 141758.,  86888.,\n",
       "         28567.,   6186.,    548.]),\n",
       " array([1.00376084e-03, 1.38585212e+00, 2.77070047e+00, 4.15554883e+00,\n",
       "        5.54039719e+00, 6.92524554e+00, 8.31009390e+00, 9.69494226e+00,\n",
       "        1.10797906e+01, 1.24646390e+01, 1.38494873e+01]),\n",
       " <a list of 10 Patch objects>)"
      ]
     },
     "execution_count": 29,
     "metadata": {},
     "output_type": "execute_result"
    },
    {
     "data": {
      "image/png": "[encoded data removed]",
      "text/plain": [
       "<Figure size 432x288 with 1 Axes>"
      ]
     },
     "metadata": {
      "needs_background": "light"
     },
     "output_type": "display_data"
    }
   ],
   "source": [
    "# scribble to get a sense of distribution of distances in euclidean\n",
    "def dist(a, b):\n",
    "    return math.sqrt( (a[0]-b[0])**2 + (a[1]-b[1])**2 )\n",
    "\n",
    "dists = []\n",
    "for _ in range(int(1e6)):\n",
    "    d = dist((np.random.uniform(0,D), np.random.uniform(0,D)),\n",
    "             (np.random.uniform(0,D), np.random.uniform(0,D)))\n",
    "    dists.append(d)\n",
    "plt.hist(dists)"
   ]
  },
  {
   "cell_type": "code",
   "execution_count": null,
   "metadata": {},
   "outputs": [],
   "source": [
    "# another scratch test (5-10 mins to run)\n",
    "# data_dir = Path(\"data\")\n",
    "# for N in [4,6,8,10]:\n",
    "#     for euc in [\"euclid\", \"no_euclid\"]:\n",
    "#         k = 0\n",
    "#         for f in (data_dir / f\"{N}_{euc}\").glob(\"*\"):\n",
    "#             with open(f, \"rb\") as file:\n",
    "#                 data = pickle.load(file)\n",
    "#             A = data[\"A\"]\n",
    "#             b = data[\"b\"]\n",
    "#             c = data[\"c\"]\n",
    "#             prob = data[\"prob\"]\n",
    "            \n",
    "#             res = linprog(c=c, A_ub=A, b_ub=b, method=\"simplex\")\n",
    "#             assert res['status'] == 0\n",
    "#             assert res['fun'] > 0\n",
    "#             print(res[\"fun\"])\n",
    "#             k += 1\n",
    "#             if (k >= 100):\n",
    "#                 break\n",
    "#         print(f\"done {N}_{euc}\")"
   ]
  },
  {
   "cell_type": "code",
   "execution_count": null,
   "metadata": {},
   "outputs": [],
   "source": []
  }
 ],
 "metadata": {
  "accelerator": "GPU",
  "colab": {
   "authorship_tag": "ABX9TyPuZfRG+aFRSgU7ZDU57x79",
   "collapsed_sections": [],
   "include_colab_link": true,
   "name": "TSP2LP.ipynb",
   "provenance": []
  },
  "kernelspec": {
   "display_name": "Python 3",
   "language": "python",
   "name": "python3"
  },
  "language_info": {
   "codemirror_mode": {
    "name": "ipython",
    "version": 3
   },
   "file_extension": ".py",
   "mimetype": "text/x-python",
   "name": "python",
   "nbconvert_exporter": "python",
   "pygments_lexer": "ipython3",
   "version": "3.7.6"
  }
 },
 "nbformat": 4,
 "nbformat_minor": 1
}
