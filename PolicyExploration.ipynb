{
 "cells": [
  {
   "cell_type": "markdown",
   "id": "a3daf508",
   "metadata": {},
   "source": [
    "# Setup"
   ]
  },
  {
   "cell_type": "code",
   "execution_count": 1,
   "id": "811a6fe1",
   "metadata": {},
   "outputs": [],
   "source": [
    "from pandas import *\n",
    "from pathlib import Path\n",
    "import pickle\n",
    "import torch.optim as optim\n",
    "import torch.nn as nn\n",
    "import matplotlib.pyplot as plt"
   ]
  },
  {
   "cell_type": "code",
   "execution_count": 2,
   "id": "2660f5ef",
   "metadata": {},
   "outputs": [],
   "source": [
    "DATA_DIR = \"/Users/bradleybrown/Desktop/Waterloo/Courses/3A/CO255/DeepSimplexPivotFinder/data_generation/data/4_euclid\"\n",
    "SAVE_DIR = \"spinningup/data/euc_4/euc_4_s0\""
   ]
  },
  {
   "cell_type": "code",
   "execution_count": 3,
   "id": "d6926995",
   "metadata": {},
   "outputs": [],
   "source": [
    "data_dir = Path(DATA_DIR)\n",
    "data_files = list(data_dir.glob(\"*\"))"
   ]
  },
  {
   "cell_type": "code",
   "execution_count": 4,
   "id": "a5c20865",
   "metadata": {},
   "outputs": [],
   "source": [
    "fname = data_files[0]"
   ]
  },
  {
   "cell_type": "code",
   "execution_count": 5,
   "id": "40a6d7bb",
   "metadata": {},
   "outputs": [
    {
     "name": "stderr",
     "output_type": "stream",
     "text": [
      "/Users/bradleybrown/opt/anaconda3/envs/co255/lib/python3.6/site-packages/ipykernel_launcher.py:4: FutureWarning: The pandas.np module is deprecated and will be removed from pandas in a future version. Import numpy directly instead\n",
      "  after removing the cwd from sys.path.\n",
      "/Users/bradleybrown/opt/anaconda3/envs/co255/lib/python3.6/site-packages/ipykernel_launcher.py:5: FutureWarning: The pandas.np module is deprecated and will be removed from pandas in a future version. Import numpy directly instead\n",
      "  \"\"\"\n",
      "/Users/bradleybrown/opt/anaconda3/envs/co255/lib/python3.6/site-packages/ipykernel_launcher.py:6: FutureWarning: The pandas.np module is deprecated and will be removed from pandas in a future version. Import numpy directly instead\n",
      "  \n"
     ]
    }
   ],
   "source": [
    "with open(fname, \"rb\") as file:\n",
    "    data = pickle.load(file)\n",
    "\n",
    "Aarr = np.array(data['A'])\n",
    "barr = np.array(data['b'])\n",
    "carr = np.array(data['c'])"
   ]
  },
  {
   "cell_type": "code",
   "execution_count": 6,
   "id": "df12d277",
   "metadata": {},
   "outputs": [],
   "source": [
    "from spinup.utils.test_policy import *"
   ]
  },
  {
   "cell_type": "code",
   "execution_count": 7,
   "id": "3de40286",
   "metadata": {},
   "outputs": [
    {
     "name": "stdout",
     "output_type": "stream",
     "text": [
      "\n",
      "\n",
      "Loading from spinningup/data/euc_4/euc_4_s0/pyt_save/model.pt.\n",
      "\n",
      "\n"
     ]
    }
   ],
   "source": [
    "env,get_action = load_policy_and_env(SAVE_DIR, DATA_DIR)"
   ]
  },
  {
   "cell_type": "code",
   "execution_count": 8,
   "id": "afdba19e",
   "metadata": {},
   "outputs": [
    {
     "name": "stdout",
     "output_type": "stream",
     "text": [
      "\n",
      "\n",
      "Loading from spinningup/data/euc_4/euc_4_s0/pyt_save/model.pt.\n",
      "\n",
      "\n"
     ]
    }
   ],
   "source": [
    "fname = osp.join(SAVE_DIR, 'pyt_save', 'model.pt')\n",
    "print('\\n\\nLoading from %s.\\n\\n'%fname)\n",
    "\n",
    "model = torch.load(fname)"
   ]
  },
  {
   "cell_type": "code",
   "execution_count": 9,
   "id": "99a0200c",
   "metadata": {},
   "outputs": [],
   "source": [
    "def p(T, idxs):\n",
    "    if type(T) == torch.Tensor: T = np.array(T)\n",
    "    if len(T.shape) == 1: T = T.reshape(23,38)\n",
    "    print (DataFrame( [[round(r,2) for j,r in enumerate(row) if j in idxs] for i,row in enumerate(T)] ))"
   ]
  },
  {
   "cell_type": "code",
   "execution_count": 10,
   "id": "7e56c29a",
   "metadata": {},
   "outputs": [],
   "source": [
    "def oh(idx, size=37):\n",
    "    return torch.eye(size)[idx]"
   ]
  },
  {
   "cell_type": "code",
   "execution_count": 11,
   "id": "dcb25315",
   "metadata": {},
   "outputs": [],
   "source": [
    "def norm(x):\n",
    "    x = np.array(x)\n",
    "    return np.sqrt(np.sum(x * x))"
   ]
  },
  {
   "cell_type": "code",
   "execution_count": 12,
   "id": "60bd6467",
   "metadata": {},
   "outputs": [
    {
     "data": {
      "text/plain": [
       "Sequential(\n",
       "  (0): Linear(in_features=874, out_features=64, bias=True)\n",
       "  (1): Tanh()\n",
       "  (2): Linear(in_features=64, out_features=64, bias=True)\n",
       "  (3): Tanh()\n",
       "  (4): Linear(in_features=64, out_features=37, bias=True)\n",
       "  (5): Identity()\n",
       ")"
      ]
     },
     "execution_count": 12,
     "metadata": {},
     "output_type": "execute_result"
    }
   ],
   "source": [
    "model.pi.logits_net.train()"
   ]
  },
  {
   "cell_type": "markdown",
   "id": "05a2fe97",
   "metadata": {},
   "source": [
    "# Testing"
   ]
  },
  {
   "cell_type": "code",
   "execution_count": 13,
   "id": "163c8436",
   "metadata": {},
   "outputs": [],
   "source": [
    "NUM_ITERS = 10000\n",
    "goal = 26\n",
    "o, r, d, ep_ret, ep_len, n = env.reset(), 0, False, 0, 0, 0"
   ]
  },
  {
   "cell_type": "code",
   "execution_count": 14,
   "id": "5196b510",
   "metadata": {},
   "outputs": [],
   "source": [
    "tab = torch.tensor(o[0], dtype=torch.float32)\n",
    "cands = torch.tensor(o[1], dtype=torch.bool)\n",
    "y = oh(goal)\n",
    "fc = torch.where(cands == False)"
   ]
  },
  {
   "cell_type": "code",
   "execution_count": 15,
   "id": "d1c56ba4",
   "metadata": {},
   "outputs": [],
   "source": [
    "tab.requires_grad = True"
   ]
  },
  {
   "cell_type": "code",
   "execution_count": 16,
   "id": "0a3d74a8",
   "metadata": {},
   "outputs": [],
   "source": [
    "soft = nn.Softmax()\n",
    "loss = nn.BCELoss()"
   ]
  },
  {
   "cell_type": "code",
   "execution_count": 17,
   "id": "f0d2a667",
   "metadata": {},
   "outputs": [],
   "source": [
    "before = tab.clone()\n",
    "optimizer = optim.Adam([tab], lr=1e-2)"
   ]
  },
  {
   "cell_type": "code",
   "execution_count": 18,
   "id": "8d1e55e3",
   "metadata": {},
   "outputs": [
    {
     "name": "stderr",
     "output_type": "stream",
     "text": [
      "/Users/bradleybrown/opt/anaconda3/envs/co255/lib/python3.6/site-packages/ipykernel_launcher.py:2: UserWarning: Implicit dimension choice for softmax has been deprecated. Change the call to include dim=X as an argument.\n",
      "  \n"
     ]
    }
   ],
   "source": [
    "for i in range(NUM_ITERS):\n",
    "    action = soft(model.pi.logits_net(tab))\n",
    "    \n",
    "    l = loss(action,y)\n",
    "    \n",
    "    l.backward()\n",
    "    \n",
    "    optimizer.step()\n",
    "    optimizer.zero_grad()"
   ]
  },
  {
   "cell_type": "code",
   "execution_count": 19,
   "id": "45087423",
   "metadata": {},
   "outputs": [],
   "source": [
    "tab = tab.reshape(23,38)\n",
    "before = before.reshape(23,38)"
   ]
  },
  {
   "cell_type": "code",
   "execution_count": 20,
   "id": "ca5a5c29",
   "metadata": {},
   "outputs": [],
   "source": [
    "delta = tab.detach()-before.detach()"
   ]
  },
  {
   "cell_type": "code",
   "execution_count": 25,
   "id": "39eec936",
   "metadata": {},
   "outputs": [],
   "source": [
    "f_obj_d = []\n",
    "nf_obj_d = []\n",
    "f_norm_d = []\n",
    "nf_norm_d = []\n",
    "targ_norm_d = []\n",
    "targ_obj_d = []"
   ]
  },
  {
   "cell_type": "code",
   "execution_count": 26,
   "id": "abe7faba",
   "metadata": {},
   "outputs": [
    {
     "name": "stderr",
     "output_type": "stream",
     "text": [
      "/Users/bradleybrown/opt/anaconda3/envs/co255/lib/python3.6/site-packages/ipykernel_launcher.py:2: FutureWarning: The pandas.np module is deprecated and will be removed from pandas in a future version. Import numpy directly instead\n",
      "  \n",
      "/Users/bradleybrown/opt/anaconda3/envs/co255/lib/python3.6/site-packages/ipykernel_launcher.py:3: FutureWarning: The pandas.np module is deprecated and will be removed from pandas in a future version. Import numpy directly instead\n",
      "  This is separate from the ipykernel package so we can avoid doing imports until\n"
     ]
    }
   ],
   "source": [
    "for i in range(37):\n",
    "    n_diff = norm(before[:,i].detach())-norm(tab[:,i].detach())\n",
    "    v_diff = delta[-1,i]\n",
    "    \n",
    "    if i == goal:\n",
    "        targ_obj_d.append(v_diff)\n",
    "        targ_norm_d.append(n_diff)\n",
    "        \n",
    "    elif i in fc[0]:\n",
    "        f_obj_d.append(v_diff)\n",
    "        f_norm_d.append(n_diff)\n",
    "        \n",
    "    else:\n",
    "        nf_obj_d.append(v_diff)\n",
    "        nf_norm_d.append(n_diff)\n",
    "        "
   ]
  },
  {
   "cell_type": "code",
   "execution_count": null,
   "id": "ed7e15bc",
   "metadata": {},
   "outputs": [],
   "source": []
  },
  {
   "cell_type": "code",
   "execution_count": 27,
   "id": "dd5315bf",
   "metadata": {},
   "outputs": [
    {
     "data": {
      "text/plain": [
       "[tensor(-1.9727),\n",
       " tensor(3.3712),\n",
       " tensor(2.9147),\n",
       " tensor(-2.4269),\n",
       " tensor(-1.6722),\n",
       " tensor(-3.2956)]"
      ]
     },
     "execution_count": 27,
     "metadata": {},
     "output_type": "execute_result"
    }
   ],
   "source": [
    "f_obj_d"
   ]
  },
  {
   "cell_type": "code",
   "execution_count": 28,
   "id": "9137d337",
   "metadata": {},
   "outputs": [
    {
     "data": {
      "text/plain": [
       "[tensor(-1.3147)]"
      ]
     },
     "execution_count": 28,
     "metadata": {},
     "output_type": "execute_result"
    }
   ],
   "source": [
    "targ_obj_d"
   ]
  },
  {
   "cell_type": "code",
   "execution_count": 29,
   "id": "cc87792e",
   "metadata": {},
   "outputs": [
    {
     "data": {
      "text/plain": [
       "[-7.3935833]"
      ]
     },
     "execution_count": 29,
     "metadata": {},
     "output_type": "execute_result"
    }
   ],
   "source": [
    "targ_norm_d"
   ]
  },
  {
   "cell_type": "code",
   "execution_count": 30,
   "id": "e2d42507",
   "metadata": {},
   "outputs": [
    {
     "data": {
      "text/plain": [
       "[-11.382032, -11.138738, -11.444481, -10.754679, -8.709473, -10.296619]"
      ]
     },
     "execution_count": 30,
     "metadata": {},
     "output_type": "execute_result"
    }
   ],
   "source": [
    "f_norm_d"
   ]
  },
  {
   "cell_type": "code",
   "execution_count": 31,
   "id": "61d16495",
   "metadata": {},
   "outputs": [
    {
     "data": {
      "text/plain": [
       "[-11.981341,\n",
       " -14.967484,\n",
       " -12.211944,\n",
       " -12.226942,\n",
       " -9.059896,\n",
       " -12.861879,\n",
       " -13.968978,\n",
       " -10.767195,\n",
       " -13.04738,\n",
       " -9.050013,\n",
       " -11.158063,\n",
       " -14.72301,\n",
       " -12.614536,\n",
       " -11.147387,\n",
       " -12.134049,\n",
       " -12.414857,\n",
       " -13.646106,\n",
       " -13.758061,\n",
       " -11.7481,\n",
       " -11.912448,\n",
       " -14.172825,\n",
       " -11.844824,\n",
       " -11.151147,\n",
       " -6.118052,\n",
       " -15.12397,\n",
       " -10.5315075,\n",
       " -12.181516,\n",
       " -8.3633,\n",
       " -11.597947,\n",
       " -10.030359]"
      ]
     },
     "execution_count": 31,
     "metadata": {},
     "output_type": "execute_result"
    }
   ],
   "source": [
    "nf_norm_d"
   ]
  },
  {
   "cell_type": "code",
   "execution_count": 32,
   "id": "fac8f273",
   "metadata": {},
   "outputs": [
    {
     "data": {
      "text/plain": [
       "[tensor(2.4239),\n",
       " tensor(-2.6187),\n",
       " tensor(-1.1509),\n",
       " tensor(-2.7552),\n",
       " tensor(-1.7541),\n",
       " tensor(1.5145),\n",
       " tensor(3.0018),\n",
       " tensor(2.1947),\n",
       " tensor(-2.6577),\n",
       " tensor(-2.0475),\n",
       " tensor(2.4693),\n",
       " tensor(1.8377),\n",
       " tensor(1.9729),\n",
       " tensor(-3.3459),\n",
       " tensor(0.8990),\n",
       " tensor(4.6823),\n",
       " tensor(2.7269),\n",
       " tensor(-3.1088),\n",
       " tensor(-2.3778),\n",
       " tensor(1.8995),\n",
       " tensor(-2.4208),\n",
       " tensor(-3.1608),\n",
       " tensor(0.2393),\n",
       " tensor(-2.4461),\n",
       " tensor(-4.8709),\n",
       " tensor(6.5009),\n",
       " tensor(-1.8936),\n",
       " tensor(3.2136),\n",
       " tensor(-3.3779),\n",
       " tensor(5.0910)]"
      ]
     },
     "execution_count": 32,
     "metadata": {},
     "output_type": "execute_result"
    }
   ],
   "source": [
    "nf_obj_d"
   ]
  },
  {
   "cell_type": "code",
   "execution_count": null,
   "id": "107d60d7",
   "metadata": {},
   "outputs": [],
   "source": [
    "d"
   ]
  }
 ],
 "metadata": {
  "kernelspec": {
   "display_name": "co255",
   "language": "python",
   "name": "co255"
  },
  "language_info": {
   "codemirror_mode": {
    "name": "ipython",
    "version": 3
   },
   "file_extension": ".py",
   "mimetype": "text/x-python",
   "name": "python",
   "nbconvert_exporter": "python",
   "pygments_lexer": "ipython3",
   "version": "3.6.13"
  }
 },
 "nbformat": 4,
 "nbformat_minor": 5
}
