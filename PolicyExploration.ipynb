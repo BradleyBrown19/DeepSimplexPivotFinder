{
 "cells": [
  {
   "cell_type": "markdown",
   "id": "92d652b9",
   "metadata": {},
   "source": [
    "# Setup"
   ]
  },
  {
   "cell_type": "code",
   "execution_count": 1,
   "id": "0536b5b8",
   "metadata": {},
   "outputs": [],
   "source": [
    "from pandas import *\n",
    "from pathlib import Path\n",
    "import pickle"
   ]
  },
  {
   "cell_type": "code",
   "execution_count": 2,
   "id": "40290c6e",
   "metadata": {},
   "outputs": [],
   "source": [
    "DATA_DIR = \"/Users/bradleybrown/Desktop/Waterloo/Courses/3A/CO255/DeepSimplexPivotFinder/data_generation/data/4_euclid\"\n",
    "SAVE_DIR = \"spinningup/data/euc_4/euc_4_s0\""
   ]
  },
  {
   "cell_type": "code",
   "execution_count": 3,
   "id": "836ed7a9",
   "metadata": {},
   "outputs": [],
   "source": [
    "data_dir = Path(DATA_DIR)\n",
    "data_files = list(data_dir.glob(\"*\"))"
   ]
  },
  {
   "cell_type": "code",
   "execution_count": 4,
   "id": "16fa476a",
   "metadata": {},
   "outputs": [],
   "source": [
    "fname = data_files[0]"
   ]
  },
  {
   "cell_type": "code",
   "execution_count": 5,
   "id": "e7fc5d9f",
   "metadata": {},
   "outputs": [
    {
     "name": "stderr",
     "output_type": "stream",
     "text": [
      "/Users/bradleybrown/opt/anaconda3/envs/co255/lib/python3.6/site-packages/ipykernel_launcher.py:4: FutureWarning: The pandas.np module is deprecated and will be removed from pandas in a future version. Import numpy directly instead\n",
      "  after removing the cwd from sys.path.\n",
      "/Users/bradleybrown/opt/anaconda3/envs/co255/lib/python3.6/site-packages/ipykernel_launcher.py:5: FutureWarning: The pandas.np module is deprecated and will be removed from pandas in a future version. Import numpy directly instead\n",
      "  \"\"\"\n",
      "/Users/bradleybrown/opt/anaconda3/envs/co255/lib/python3.6/site-packages/ipykernel_launcher.py:6: FutureWarning: The pandas.np module is deprecated and will be removed from pandas in a future version. Import numpy directly instead\n",
      "  \n"
     ]
    }
   ],
   "source": [
    "with open(fname, \"rb\") as file:\n",
    "    data = pickle.load(file)\n",
    "\n",
    "Aarr = np.array(data['A'])\n",
    "barr = np.array(data['b'])\n",
    "carr = np.array(data['c'])"
   ]
  },
  {
   "cell_type": "code",
   "execution_count": 6,
   "id": "af511334",
   "metadata": {},
   "outputs": [],
   "source": [
    "from spinup.utils.test_policy import *"
   ]
  },
  {
   "cell_type": "code",
   "execution_count": 7,
   "id": "a4276af9",
   "metadata": {},
   "outputs": [
    {
     "name": "stdout",
     "output_type": "stream",
     "text": [
      "\n",
      "\n",
      "Loading from spinningup/data/euc_4/euc_4_s0/pyt_save/model.pt.\n",
      "\n",
      "\n"
     ]
    }
   ],
   "source": [
    "env,get_action = load_policy_and_env(SAVE_DIR, DATA_DIR)"
   ]
  },
  {
   "cell_type": "code",
   "execution_count": 8,
   "id": "65a30b68",
   "metadata": {},
   "outputs": [
    {
     "name": "stdout",
     "output_type": "stream",
     "text": [
      "\n",
      "\n",
      "Loading from spinningup/data/euc_4/euc_4_s0/pyt_save/model.pt.\n",
      "\n",
      "\n"
     ]
    }
   ],
   "source": [
    "fname = osp.join(SAVE_DIR, 'pyt_save', 'model.pt')\n",
    "print('\\n\\nLoading from %s.\\n\\n'%fname)\n",
    "\n",
    "model = torch.load(fname)"
   ]
  },
  {
   "cell_type": "code",
   "execution_count": 9,
   "id": "850cfe67",
   "metadata": {},
   "outputs": [],
   "source": [
    "def p(T):\n",
    "    if len(T.shape) == 1: T = T.reshape(23,38)\n",
    "    print (DataFrame( [[round(r,2) for r in row] for row in T] ))"
   ]
  },
  {
   "cell_type": "code",
   "execution_count": null,
   "id": "6f48db19",
   "metadata": {},
   "outputs": [],
   "source": []
  },
  {
   "cell_type": "markdown",
   "id": "ca65c376",
   "metadata": {},
   "source": [
    "# Testing"
   ]
  },
  {
   "cell_type": "code",
   "execution_count": 13,
   "id": "a4037bfe",
   "metadata": {},
   "outputs": [],
   "source": [
    "NUM_ITERS = 1"
   ]
  },
  {
   "cell_type": "code",
   "execution_count": 14,
   "id": "c36ac5b2",
   "metadata": {},
   "outputs": [],
   "source": [
    "o, r, d, ep_ret, ep_len, n = env.reset(), 0, False, 0, 0, 0\n",
    "tab = torch.tensor(o[0], dtype=torch.float32)\n",
    "cands = torch.tensor(o[1], dtype=torch.bool)\n",
    "\n",
    "for i in range(NUM_ITERS):\n",
    "    action = model.act(tab, cands)"
   ]
  },
  {
   "cell_type": "code",
   "execution_count": 15,
   "id": "034063ae",
   "metadata": {},
   "outputs": [
    {
     "data": {
      "text/plain": [
       "array(26)"
      ]
     },
     "execution_count": 15,
     "metadata": {},
     "output_type": "execute_result"
    }
   ],
   "source": [
    "action"
   ]
  },
  {
   "cell_type": "code",
   "execution_count": 34,
   "id": "6a15b8a8",
   "metadata": {},
   "outputs": [
    {
     "data": {
      "text/plain": [
       "torch.Size([873])"
      ]
     },
     "execution_count": 34,
     "metadata": {},
     "output_type": "execute_result"
    }
   ],
   "source": [
    "cands.shape"
   ]
  },
  {
   "cell_type": "code",
   "execution_count": 35,
   "id": "f34f2a4f",
   "metadata": {},
   "outputs": [
    {
     "data": {
      "text/plain": [
       "torch.Size([874])"
      ]
     },
     "execution_count": 35,
     "metadata": {},
     "output_type": "execute_result"
    }
   ],
   "source": [
    "tab.shape"
   ]
  },
  {
   "cell_type": "code",
   "execution_count": 21,
   "id": "8ec7c970",
   "metadata": {},
   "outputs": [
    {
     "name": "stdout",
     "output_type": "stream",
     "text": [
      "\n",
      "\n",
      "Loading from spinningup/data/euc_4/euc_4_s0/pyt_save/model.pt.\n",
      "\n",
      "\n"
     ]
    },
    {
     "data": {
      "text/plain": [
       "(2, (38,), (37,))"
      ]
     },
     "execution_count": 21,
     "metadata": {},
     "output_type": "execute_result"
    }
   ],
   "source": [
    "env,get_action = load_policy_and_env(SAVE_DIR, DATA_DIR, heuristic=False, full_tableau=False)\n",
    "o, r, d, ep_ret, ep_len, n = env.reset(), 0, False, 0, 0, 0\n",
    "len(o),o[0].shape,o[1].shape"
   ]
  },
  {
   "cell_type": "code",
   "execution_count": null,
   "id": "873f2c2f",
   "metadata": {},
   "outputs": [],
   "source": []
  }
 ],
 "metadata": {
  "kernelspec": {
   "display_name": "co255",
   "language": "python",
   "name": "co255"
  },
  "language_info": {
   "codemirror_mode": {
    "name": "ipython",
    "version": 3
   },
   "file_extension": ".py",
   "mimetype": "text/x-python",
   "name": "python",
   "nbconvert_exporter": "python",
   "pygments_lexer": "ipython3",
   "version": "3.6.13"
  }
 },
 "nbformat": 4,
 "nbformat_minor": 5
}
