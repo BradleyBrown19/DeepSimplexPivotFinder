{
 "cells": [
  {
   "cell_type": "markdown",
   "id": "b712a300",
   "metadata": {},
   "source": [
    "# Setup"
   ]
  },
  {
   "cell_type": "code",
   "execution_count": 1,
   "id": "5c4680ca",
   "metadata": {},
   "outputs": [],
   "source": [
    "from pandas import *\n",
    "from pathlib import Path\n",
    "import pickle\n",
    "import torch.optim as optim\n",
    "import torch.nn as nn"
   ]
  },
  {
   "cell_type": "code",
   "execution_count": 2,
   "id": "6f8a73de",
   "metadata": {},
   "outputs": [],
   "source": [
    "DATA_DIR = \"/Users/bradleybrown/Desktop/Waterloo/Courses/3A/CO255/DeepSimplexPivotFinder/data_generation/data/4_euclid\"\n",
    "SAVE_DIR = \"spinningup/data/euc_4/euc_4_s0\""
   ]
  },
  {
   "cell_type": "code",
   "execution_count": 3,
   "id": "a0553068",
   "metadata": {},
   "outputs": [],
   "source": [
    "data_dir = Path(DATA_DIR)\n",
    "data_files = list(data_dir.glob(\"*\"))"
   ]
  },
  {
   "cell_type": "code",
   "execution_count": 4,
   "id": "f074ad39",
   "metadata": {},
   "outputs": [],
   "source": [
    "fname = data_files[0]"
   ]
  },
  {
   "cell_type": "code",
   "execution_count": 5,
   "id": "2b3b7135",
   "metadata": {},
   "outputs": [
    {
     "name": "stderr",
     "output_type": "stream",
     "text": [
      "/Users/bradleybrown/opt/anaconda3/envs/co255/lib/python3.6/site-packages/ipykernel_launcher.py:4: FutureWarning: The pandas.np module is deprecated and will be removed from pandas in a future version. Import numpy directly instead\n",
      "  after removing the cwd from sys.path.\n",
      "/Users/bradleybrown/opt/anaconda3/envs/co255/lib/python3.6/site-packages/ipykernel_launcher.py:5: FutureWarning: The pandas.np module is deprecated and will be removed from pandas in a future version. Import numpy directly instead\n",
      "  \"\"\"\n",
      "/Users/bradleybrown/opt/anaconda3/envs/co255/lib/python3.6/site-packages/ipykernel_launcher.py:6: FutureWarning: The pandas.np module is deprecated and will be removed from pandas in a future version. Import numpy directly instead\n",
      "  \n"
     ]
    }
   ],
   "source": [
    "with open(fname, \"rb\") as file:\n",
    "    data = pickle.load(file)\n",
    "\n",
    "Aarr = np.array(data['A'])\n",
    "barr = np.array(data['b'])\n",
    "carr = np.array(data['c'])"
   ]
  },
  {
   "cell_type": "code",
   "execution_count": 6,
   "id": "4777b555",
   "metadata": {},
   "outputs": [],
   "source": [
    "from spinup.utils.test_policy import *"
   ]
  },
  {
   "cell_type": "code",
   "execution_count": 7,
   "id": "1c914d1c",
   "metadata": {},
   "outputs": [
    {
     "name": "stdout",
     "output_type": "stream",
     "text": [
      "\n",
      "\n",
      "Loading from spinningup/data/euc_4/euc_4_s0/pyt_save/model.pt.\n",
      "\n",
      "\n"
     ]
    }
   ],
   "source": [
    "env,get_action = load_policy_and_env(SAVE_DIR, DATA_DIR)"
   ]
  },
  {
   "cell_type": "code",
   "execution_count": 8,
   "id": "9b99a35c",
   "metadata": {},
   "outputs": [
    {
     "name": "stdout",
     "output_type": "stream",
     "text": [
      "\n",
      "\n",
      "Loading from spinningup/data/euc_4/euc_4_s0/pyt_save/model.pt.\n",
      "\n",
      "\n"
     ]
    }
   ],
   "source": [
    "fname = osp.join(SAVE_DIR, 'pyt_save', 'model.pt')\n",
    "print('\\n\\nLoading from %s.\\n\\n'%fname)\n",
    "\n",
    "model = torch.load(fname)"
   ]
  },
  {
   "cell_type": "code",
   "execution_count": 9,
   "id": "d1f3a037",
   "metadata": {},
   "outputs": [],
   "source": [
    "def p(T, idxs):\n",
    "    if type(T) == torch.Tensor: T = np.array(T)\n",
    "    if len(T.shape) == 1: T = T.reshape(23,38)\n",
    "    print (DataFrame( [[round(r,2) for j,r in enumerate(row) if j in idxs] for i,row in enumerate(T)] ))"
   ]
  },
  {
   "cell_type": "code",
   "execution_count": 10,
   "id": "1dd3e297",
   "metadata": {},
   "outputs": [],
   "source": [
    "def oh(idx, size=37):\n",
    "    return torch.eye(size)[idx]"
   ]
  },
  {
   "cell_type": "code",
   "execution_count": 11,
   "id": "2ce92252",
   "metadata": {},
   "outputs": [
    {
     "data": {
      "text/plain": [
       "Sequential(\n",
       "  (0): Linear(in_features=874, out_features=64, bias=True)\n",
       "  (1): Tanh()\n",
       "  (2): Linear(in_features=64, out_features=64, bias=True)\n",
       "  (3): Tanh()\n",
       "  (4): Linear(in_features=64, out_features=37, bias=True)\n",
       "  (5): Identity()\n",
       ")"
      ]
     },
     "execution_count": 11,
     "metadata": {},
     "output_type": "execute_result"
    }
   ],
   "source": [
    "model.pi.logits_net.train()"
   ]
  },
  {
   "cell_type": "markdown",
   "id": "ec6ba7f5",
   "metadata": {},
   "source": [
    "# Testing"
   ]
  },
  {
   "cell_type": "code",
   "execution_count": 12,
   "id": "d790ff06",
   "metadata": {},
   "outputs": [],
   "source": [
    "NUM_ITERS = 10000\n",
    "goal = 26\n",
    "o, r, d, ep_ret, ep_len, n = env.reset(), 0, False, 0, 0, 0"
   ]
  },
  {
   "cell_type": "code",
   "execution_count": 13,
   "id": "fe31f76b",
   "metadata": {},
   "outputs": [
    {
     "data": {
      "text/plain": [
       "(tensor([14, 16, 17, 19, 24, 28]),)"
      ]
     },
     "execution_count": 13,
     "metadata": {},
     "output_type": "execute_result"
    }
   ],
   "source": [
    "tab = torch.tensor(o[0], dtype=torch.float32)\n",
    "cands = torch.tensor(o[1], dtype=torch.bool)\n",
    "y = oh(goal)\n",
    "torch.where(cands == False)"
   ]
  },
  {
   "cell_type": "code",
   "execution_count": 14,
   "id": "f59cda3e",
   "metadata": {},
   "outputs": [],
   "source": [
    "tab.requires_grad = True"
   ]
  },
  {
   "cell_type": "code",
   "execution_count": 15,
   "id": "b1de7e8d",
   "metadata": {},
   "outputs": [],
   "source": [
    "soft = nn.Softmax()\n",
    "loss = nn.BCELoss()"
   ]
  },
  {
   "cell_type": "code",
   "execution_count": 16,
   "id": "7d8ba07c",
   "metadata": {},
   "outputs": [],
   "source": [
    "before = tab.clone()\n",
    "optimizer = optim.Adam([tab], lr=1e-2)"
   ]
  },
  {
   "cell_type": "code",
   "execution_count": 17,
   "id": "87365225",
   "metadata": {},
   "outputs": [
    {
     "name": "stderr",
     "output_type": "stream",
     "text": [
      "/Users/bradleybrown/opt/anaconda3/envs/co255/lib/python3.6/site-packages/ipykernel_launcher.py:2: UserWarning: Implicit dimension choice for softmax has been deprecated. Change the call to include dim=X as an argument.\n",
      "  \n"
     ]
    }
   ],
   "source": [
    "for i in range(NUM_ITERS):\n",
    "    action = soft(model.pi.logits_net(tab))\n",
    "    \n",
    "    l = loss(action,y)\n",
    "    \n",
    "    l.backward()\n",
    "    \n",
    "    optimizer.step()\n",
    "    optimizer.zero_grad()"
   ]
  },
  {
   "cell_type": "code",
   "execution_count": 18,
   "id": "2735604c",
   "metadata": {},
   "outputs": [
    {
     "name": "stdout",
     "output_type": "stream",
     "text": [
      "       0     1      2\n",
      "0   0.25  0.00   0.75\n",
      "1   1.00  2.00   5.50\n",
      "2  -0.25 -0.50   0.12\n",
      "3  -1.00  2.00   4.50\n",
      "4  -0.25  0.00   0.75\n",
      "5  -0.25  0.00   0.25\n",
      "6  -0.25  0.50   0.12\n",
      "7  -0.00 -1.00  -0.00\n",
      "8   0.25  0.00   0.75\n",
      "9   0.00  0.00   0.00\n",
      "10  0.00 -0.50   0.12\n",
      "11  0.00  1.00   0.00\n",
      "12  0.00  2.00   2.50\n",
      "13  0.00  0.00   0.00\n",
      "14  0.00  0.00   0.00\n",
      "15  0.00  0.00   0.00\n",
      "16 -0.25  0.00   0.75\n",
      "17  0.00  0.00   0.00\n",
      "18  0.25  0.00   0.25\n",
      "19  0.00  1.00   0.00\n",
      "20  0.50  0.50   0.12\n",
      "21 -0.00 -0.00  -0.00\n",
      "22  2.08  0.45 -26.82\n"
     ]
    },
    {
     "name": "stderr",
     "output_type": "stream",
     "text": [
      "/Users/bradleybrown/opt/anaconda3/envs/co255/lib/python3.6/site-packages/ipykernel_launcher.py:2: FutureWarning: The pandas.np module is deprecated and will be removed from pandas in a future version. Import numpy directly instead\n",
      "  \n"
     ]
    }
   ],
   "source": [
    "p(before.detach(), idxs={12,26,37})"
   ]
  },
  {
   "cell_type": "code",
   "execution_count": 19,
   "id": "c2d3e354",
   "metadata": {},
   "outputs": [
    {
     "name": "stdout",
     "output_type": "stream",
     "text": [
      "       0     1      2\n",
      "0   2.36  1.11   2.87\n",
      "1  -2.20 -2.92   2.46\n",
      "2   2.76  2.07   2.24\n",
      "3  -3.26 -0.81   7.30\n",
      "4   1.53  1.44   1.81\n",
      "5   0.86 -2.08  -2.43\n",
      "6  -4.61 -2.46  -2.59\n",
      "7  -3.12 -2.34   2.94\n",
      "8   3.87 -2.57   0.84\n",
      "9  -2.85  3.15  -2.47\n",
      "10  2.96 -2.89   1.08\n",
      "11  4.89  2.66   2.02\n",
      "12  3.93  1.77   6.08\n",
      "13 -1.53 -2.34  -1.82\n",
      "14  0.58 -1.83  -2.85\n",
      "15  3.00  1.80   3.01\n",
      "16 -2.42  1.98   2.09\n",
      "17  3.86 -2.27  -2.83\n",
      "18  1.66  5.69  -2.41\n",
      "19  4.76  2.50  -1.84\n",
      "20  2.96  1.31  -1.39\n",
      "21 -4.04 -0.67  -2.73\n",
      "22  4.05 -0.87 -27.15\n"
     ]
    },
    {
     "name": "stderr",
     "output_type": "stream",
     "text": [
      "/Users/bradleybrown/opt/anaconda3/envs/co255/lib/python3.6/site-packages/ipykernel_launcher.py:2: FutureWarning: The pandas.np module is deprecated and will be removed from pandas in a future version. Import numpy directly instead\n",
      "  \n"
     ]
    }
   ],
   "source": [
    "p(tab.detach(), idxs={12,26,37})"
   ]
  },
  {
   "cell_type": "code",
   "execution_count": 20,
   "id": "8b95880c",
   "metadata": {},
   "outputs": [
    {
     "name": "stdout",
     "output_type": "stream",
     "text": [
      "       0     1     2\n",
      "0   2.11  1.11  2.12\n",
      "1  -3.20 -4.92 -3.04\n",
      "2   3.01  2.57  2.12\n",
      "3  -2.26 -2.81  2.80\n",
      "4   1.78  1.44  1.06\n",
      "5   1.11 -2.08 -2.68\n",
      "6  -4.36 -2.96 -2.71\n",
      "7  -3.12 -1.34  2.94\n",
      "8   3.62 -2.57  0.09\n",
      "9  -2.85  3.15 -2.47\n",
      "10  2.96 -2.39  0.96\n",
      "11  4.89  1.66  2.02\n",
      "12  3.93 -0.23  3.58\n",
      "13 -1.53 -2.34 -1.82\n",
      "14  0.58 -1.83 -2.85\n",
      "15  3.00  1.80  3.01\n",
      "16 -2.17  1.98  1.34\n",
      "17  3.86 -2.27 -2.83\n",
      "18  1.41  5.69 -2.66\n",
      "19  4.76  1.50 -1.84\n",
      "20  2.46  0.81 -1.52\n",
      "21 -4.04 -0.67 -2.73\n",
      "22  1.97 -1.31 -0.34\n"
     ]
    },
    {
     "name": "stderr",
     "output_type": "stream",
     "text": [
      "/Users/bradleybrown/opt/anaconda3/envs/co255/lib/python3.6/site-packages/ipykernel_launcher.py:2: FutureWarning: The pandas.np module is deprecated and will be removed from pandas in a future version. Import numpy directly instead\n",
      "  \n"
     ]
    }
   ],
   "source": [
    "p(tab.detach()-before.detach(), idxs={12,26,37})"
   ]
  },
  {
   "cell_type": "code",
   "execution_count": null,
   "id": "e6c95ef3",
   "metadata": {},
   "outputs": [],
   "source": []
  },
  {
   "cell_type": "code",
   "execution_count": null,
   "id": "10911c87",
   "metadata": {},
   "outputs": [],
   "source": []
  }
 ],
 "metadata": {
  "kernelspec": {
   "display_name": "co255",
   "language": "python",
   "name": "co255"
  },
  "language_info": {
   "codemirror_mode": {
    "name": "ipython",
    "version": 3
   },
   "file_extension": ".py",
   "mimetype": "text/x-python",
   "name": "python",
   "nbconvert_exporter": "python",
   "pygments_lexer": "ipython3",
   "version": "3.6.13"
  }
 },
 "nbformat": 4,
 "nbformat_minor": 5
}
